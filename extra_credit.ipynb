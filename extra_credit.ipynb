{
 "cells": [
  {
   "cell_type": "code",
   "execution_count": 36,
   "metadata": {},
   "outputs": [
    {
     "name": "stdout",
     "output_type": "stream",
     "text": [
      "    index lower upper\n",
      "0       1     a     A\n",
      "1       2     b     B\n",
      "2       3     c     C\n",
      "3       4     d     D\n",
      "4       5     e     E\n",
      "5       6     f     F\n",
      "6       7     g     G\n",
      "7       8     h     H\n",
      "8       9     i     I\n",
      "9      10     j     J\n",
      "10     11     k     K\n",
      "11     12     l     L\n",
      "12     13     m     M\n",
      "13     14     n     N\n",
      "14     15     o     O\n",
      "15     16     p     P\n",
      "16     17     q     Q\n",
      "17     18     r     R\n",
      "18     19     s     S\n",
      "19     20     t     T\n",
      "20     21     u     U\n",
      "21     22     v     V\n",
      "22     23     w     W\n",
      "23     24     x     X\n",
      "24     25     y     Y\n",
      "25     26     z     Z\n"
     ]
    }
   ],
   "source": [
    "from string import (ascii_lowercase,ascii_uppercase)\n",
    "import pandas as pd\n",
    "\n",
    "alphabet_data = []\n",
    "for number in list(range(1,27)):\n",
    "    alphabet_data.append({'lower': ascii_lowercase[number -1], 'upper': ascii_uppercase[number - 1], 'index': number})\n",
    "\n",
    "alphabet_data\n",
    "\n",
    "# Casting to Data Frame\n",
    "\n",
    "alphabet = pd.DataFrame(alphabet_data)\n",
    "print (alphabet)"
   ]
  },
  {
   "cell_type": "code",
   "execution_count": null,
   "metadata": {},
   "outputs": [],
   "source": []
  },
  {
   "cell_type": "code",
   "execution_count": null,
   "metadata": {},
   "outputs": [],
   "source": []
  },
  {
   "cell_type": "code",
   "execution_count": null,
   "metadata": {},
   "outputs": [],
   "source": []
  },
  {
   "cell_type": "code",
   "execution_count": null,
   "metadata": {},
   "outputs": [],
   "source": []
  }
 ],
 "metadata": {
  "kernelspec": {
   "display_name": "learn-env",
   "language": "python",
   "name": "learn-env"
  },
  "language_info": {
   "codemirror_mode": {
    "name": "ipython",
    "version": 3
   },
   "file_extension": ".py",
   "mimetype": "text/x-python",
   "name": "python",
   "nbconvert_exporter": "python",
   "pygments_lexer": "ipython3",
   "version": "3.6.6"
  }
 },
 "nbformat": 4,
 "nbformat_minor": 2
}
