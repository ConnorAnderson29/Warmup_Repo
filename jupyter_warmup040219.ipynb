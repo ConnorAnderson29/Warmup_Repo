{
 "cells": [
  {
   "cell_type": "code",
   "execution_count": 1,
   "metadata": {},
   "outputs": [
    {
     "data": {
      "text/plain": [
       "\"My Special Spaghetti Recipe\\n\\n1. So you must start with 8 ounces of all natural ground beef.\\n    I mean like super natural, like you have met the cow in person natural...\\n2. Then you are gonna want to create a mizture of some spices,lil garlic powder, pepper, salt, maybe onion powder, whatever you fancy. \\n3. Once you have made the mixture, you will need to start cooking the meat.\\n    To cook the meat, you will want medium heat over a skillet, and you might want a little olive oil in the pan.\\n4. Add the spice mixture to the olive in the pan, you should get a little sizzle   That's when you add the meat... \\n5. After you have thrown the meat in the pan, you will want to start chopping it up with you spatula. You can do this however you please, personally this is my favorite part.\\n6. At some point, you should make the noodles. Honestly, start those before you start cooking the meat, because the meat will be done faster. Make the noodles how you want them. I like them a little crunchier. \\n7. Then put it on a plate, cover it with mozzarella or parmesan and enjoy!\""
      ]
     },
     "execution_count": 1,
     "metadata": {},
     "output_type": "execute_result"
    }
   ],
   "source": [
    "        '''My Special Spaghetti Recipe\n",
    "\n",
    "1. So you must start with 8 ounces of all natural ground beef.\n",
    "    I mean like super natural, like you have met the cow in person natural...\n",
    "2. Then you are gonna want to create a mizture of some spices,lil garlic powder, pepper, salt, maybe onion powder, whatever you fancy. \n",
    "3. Once you have made the mixture, you will need to start cooking the meat.\n",
    "    To cook the meat, you will want medium heat over a skillet, and you might want a little olive oil in the pan.\n",
    "4. Add the spice mixture to the olive in the pan, you should get a little sizzle   That's when you add the meat... \n",
    "5. After you have thrown the meat in the pan, you will want to start chopping it up with you spatula. You can do this however you please, personally this is my favorite part.\n",
    "6. At some point, you should make the noodles. Honestly, start those before you start cooking the meat, because the meat will be done faster. Make the noodles how you want them. I like them a little crunchier. \n",
    "7. Then put it on a plate, cover it with mozzarella or parmesan and enjoy!'''"
   ]
  },
  {
   "cell_type": "code",
   "execution_count": 2,
   "metadata": {},
   "outputs": [
    {
     "data": {
      "text/plain": [
       "'Hopefully Jupyter really likes my recipe!'"
      ]
     },
     "execution_count": 2,
     "metadata": {},
     "output_type": "execute_result"
    }
   ],
   "source": [
    "'''Hopefully Jupyter really likes my recipe!'''"
   ]
  },
  {
   "cell_type": "code",
   "execution_count": null,
   "metadata": {},
   "outputs": [],
   "source": []
  }
 ],
 "metadata": {
  "kernelspec": {
   "display_name": "Python 3",
   "language": "python",
   "name": "python3"
  },
  "language_info": {
   "codemirror_mode": {
    "name": "ipython",
    "version": 3
   },
   "file_extension": ".py",
   "mimetype": "text/x-python",
   "name": "python",
   "nbconvert_exporter": "python",
   "pygments_lexer": "ipython3",
   "version": "3.7.1"
  }
 },
 "nbformat": 4,
 "nbformat_minor": 2
}
